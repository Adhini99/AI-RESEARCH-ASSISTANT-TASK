{
  "cells": [
    {
      "cell_type": "markdown",
      "id": "846657a6",
      "metadata": {
        "id": "846657a6"
      },
      "source": [
        "# ResNet vs Plain CNN — Chest X-Ray Fine-tune (Colab)\n",
        "\n",
        "This Colab notebook fine-tunes a ResNet backbone (resnet50 / resnet101) and a plain CNN baseline on a Chest X-Ray classification dataset (e.g., NIH ChestX-ray14). It is structured to be runnable in Google Colab with GPU. The notebook:\n",
        "\n",
        "- clones your GitHub repo (or you can upload dataset manually)\n",
        "- installs required packages\n",
        "- prepares dataloaders (example pipeline)\n",
        "- defines PlainNet and ResNet models\n",
        "- trains both models and logs metrics (per-epoch CSV)\n",
        "- plots comparison figures (AUC / loss)\n",
        "\n",
        "---\n"
      ]
    },
    {
      "cell_type": "code",
      "source": [
        "from google.colab import drive\n",
        "drive.mount('/content/drive')"
      ],
      "metadata": {
        "colab": {
          "base_uri": "https://localhost:8080/"
        },
        "id": "svU0RWBaOM6x",
        "outputId": "501891d3-0ff6-446a-dda3-68e7ba38c4b2"
      },
      "id": "svU0RWBaOM6x",
      "execution_count": 56,
      "outputs": [
        {
          "output_type": "stream",
          "name": "stdout",
          "text": [
            "Drive already mounted at /content/drive; to attempt to forcibly remount, call drive.mount(\"/content/drive\", force_remount=True).\n"
          ]
        }
      ]
    },
    {
      "cell_type": "code",
      "execution_count": 57,
      "id": "e5b6b247",
      "metadata": {
        "colab": {
          "base_uri": "https://localhost:8080/"
        },
        "id": "e5b6b247",
        "outputId": "cf534e4f-b893-499a-d737-03e0228c76c7"
      },
      "outputs": [
        {
          "output_type": "stream",
          "name": "stdout",
          "text": [
            "\u001b[31mERROR: Could not find a version that satisfies the requirement timm==0.6.14 (from versions: 0.1.1, 0.1.2, 0.1.4, 0.1.6, 0.1.8, 0.1.10, 0.1.12, 0.1.14, 0.1.16, 0.1.18, 0.1.20, 0.1.22, 0.1.24, 0.1.26, 0.1.28, 0.1.30, 0.2.1, 0.3.0, 0.3.1, 0.3.2, 0.3.3, 0.3.4, 0.4.5, 0.4.9, 0.4.12, 0.5.4, 0.6.2.dev0, 0.6.5, 0.6.7, 0.6.11, 0.6.12, 0.6.13, 0.8.0.dev0, 0.8.2.dev0, 0.8.3.dev0, 0.8.6.dev0, 0.8.10.dev0, 0.8.11.dev0, 0.8.13.dev0, 0.8.15.dev0, 0.8.17.dev0, 0.8.19.dev0, 0.8.21.dev0, 0.8.23.dev0, 0.9.0, 0.9.1, 0.9.2, 0.9.5, 0.9.6, 0.9.7, 0.9.8, 0.9.9, 0.9.10, 0.9.11, 0.9.12, 0.9.16, 1.0.3, 1.0.7, 1.0.8, 1.0.9, 1.0.10, 1.0.11, 1.0.12, 1.0.13, 1.0.14, 1.0.15, 1.0.16, 1.0.17, 1.0.18, 1.0.19, 1.0.20)\u001b[0m\u001b[31m\n",
            "\u001b[0m\u001b[31mERROR: No matching distribution found for timm==0.6.14\u001b[0m\u001b[31m\n",
            "\u001b[0mtorch 2.8.0+cu126 torchvision 0.23.0+cu126\n"
          ]
        }
      ],
      "source": [
        "!pip install -q timm==0.6.14 torchmetrics scikit-learn pandas seaborn || true\n",
        "import torch, torchvision\n",
        "print('torch', torch.__version__, 'torchvision', torchvision.__version__)"
      ]
    },
    {
      "cell_type": "markdown",
      "id": "5d3e3cbb",
      "metadata": {
        "id": "5d3e3cbb"
      },
      "source": [
        "## 1) Clone your GitHub repo (optional)\n",
        "\n",
        "If you want to use the dataset and helper utilities in your `Chest-X-Ray-Classification` repo, run the cell below. Otherwise, upload your data to the Colab session or mount Google Drive and set `DATA_DIR` accordingly."
      ]
    },
    {
      "cell_type": "code",
      "execution_count": 58,
      "id": "b72c2087",
      "metadata": {
        "colab": {
          "base_uri": "https://localhost:8080/"
        },
        "id": "b72c2087",
        "outputId": "ead679a9-3725-482c-8cfd-879919244e62"
      },
      "outputs": [
        {
          "output_type": "stream",
          "name": "stdout",
          "text": [
            "fatal: destination path 'repo_cxr' already exists and is not an empty directory.\n",
            "total 11056\n",
            "drwxr-xr-x 3 root root    4096 Sep 25 04:49 .\n",
            "drwxr-xr-x 1 root root    4096 Sep 25 04:54 ..\n",
            "-rw-r--r-- 1 root root 2649185 Sep 25 04:49 Copy_of_Chest_X_Ray_Classification_with_Dense_and_Swin.ipynb\n",
            "-rw-r--r-- 1 root root 8647116 Sep 25 04:49 Copy_of_Chest_X_Ray_Vit_Classification.ipynb\n",
            "drwxr-xr-x 8 root root    4096 Sep 25 04:49 .git\n",
            "-rw-r--r-- 1 root root    2207 Sep 25 04:49 README.md\n",
            "-rw-r--r-- 1 root root    1287 Sep 25 04:49 README.VIT\n"
          ]
        }
      ],
      "source": [
        "!git clone https://github.com/Adhini99/Chest-X-Ray-Classification.git repo_cxr || true\n",
        "!ls -la repo_cxr | sed -n '1,120p'"
      ]
    },
    {
      "cell_type": "markdown",
      "id": "5b0b9e31",
      "metadata": {
        "id": "5b0b9e31"
      },
      "source": [
        "## 2) Configuration\n",
        "\n",
        "Set dataset paths and basic hyperparameters below. If you mounted Google Drive or uploaded data, change `DATA_DIR` to point there. For a quick demo set `FAST_DEBUG=True` to use a small subset and few epochs."
      ]
    },
    {
      "cell_type": "code",
      "execution_count": 59,
      "id": "a413e1c8",
      "metadata": {
        "id": "a413e1c8",
        "colab": {
          "base_uri": "https://localhost:8080/"
        },
        "outputId": "44a72a80-1c02-44bf-cfc5-fb7fb2fd22fa"
      },
      "outputs": [
        {
          "output_type": "stream",
          "name": "stdout",
          "text": [
            "DATA_DIR: /root/.cache/kagglehub/datasets/khanfashee/nih-chest-x-ray-14-224x224-resized/versions/3\n",
            "DEVICE: cuda\n"
          ]
        }
      ],
      "source": [
        "# Use KaggleHub dataset path instead of repo folder\n",
        "import kagglehub\n",
        "\n",
        "# Download & cache NIH Chest X-ray 14 (224x224 resized)\n",
        "DATA_DIR = kagglehub.dataset_download('khanfashee/nih-chest-x-ray-14-224x224-resized')\n",
        "\n",
        "# Quick debug mode (use smaller batch & fewer epochs)\n",
        "FAST_DEBUG = True      # set False for full training\n",
        "\n",
        "# Dataset settings\n",
        "NUM_CLASSES = 14       # NIH dataset has 14 disease labels\n",
        "IMAGE_SIZE = 224       # images are pre-resized to 224x224\n",
        "BATCH_SIZE = 32 if not FAST_DEBUG else 8\n",
        "EPOCHS = 20 if not FAST_DEBUG else 3\n",
        "\n",
        "# Hardware setup\n",
        "import torch, random, numpy as np\n",
        "DEVICE = 'cuda' if torch.cuda.is_available() else 'cpu'\n",
        "SEED = 42\n",
        "\n",
        "print(\"DATA_DIR:\", DATA_DIR)\n",
        "print(\"DEVICE:\", DEVICE)\n",
        "\n",
        "# Reproducibility\n",
        "torch.manual_seed(SEED)\n",
        "np.random.seed(SEED)\n",
        "random.seed(SEED)\n",
        "\n"
      ]
    },
    {
      "cell_type": "markdown",
      "id": "2bc539ce",
      "metadata": {
        "id": "2bc539ce"
      },
      "source": [
        "### 3) Dataset helper\n",
        "\n",
        "This cell provides a lightweight Dataset class that expects a CSV with columns `image_path` and multi-hot label columns (0/1 per class). If your repo already has a dataset loader, replace this cell with your loader."
      ]
    },
    {
      "cell_type": "code",
      "execution_count": 60,
      "id": "a46b24c1",
      "metadata": {
        "id": "a46b24c1"
      },
      "outputs": [],
      "source": [
        "class CXRDataset(Dataset):\n",
        "    def __init__(self, df, img_dir, transforms=None, image_col='image_path', label_cols=None):\n",
        "        self.df = df.reset_index(drop=True)\n",
        "        self.img_dir = img_dir\n",
        "        self.transforms = transforms\n",
        "        self.image_col = image_col\n",
        "        self.label_cols = label_cols\n",
        "    def __len__(self):\n",
        "        return len(self.df)\n",
        "    def __getitem__(self, idx):\n",
        "        row = self.df.iloc[idx]\n",
        "        img_path = os.path.join(self.img_dir, row[self.image_col])\n",
        "        from PIL import Image\n",
        "        img = Image.open(img_path).convert('RGB')\n",
        "        if self.transforms:\n",
        "            img = self.transforms(img)\n",
        "        if self.label_cols is not None:\n",
        "            labels = row[self.label_cols].values.astype('float32')\n",
        "            labels = torch.from_numpy(labels)\n",
        "        else:\n",
        "            labels = torch.zeros(NUM_CLASSES, dtype=torch.float32)\n",
        "        return img, labels\n"
      ]
    },
    {
      "cell_type": "code",
      "execution_count": 61,
      "id": "6d8a53af",
      "metadata": {
        "id": "6d8a53af"
      },
      "outputs": [],
      "source": [
        "train_transforms = transforms.Compose([\n",
        "    transforms.RandomResizedCrop(IMAGE_SIZE, scale=(0.8,1.0)),\n",
        "    transforms.RandomHorizontalFlip(),\n",
        "    transforms.RandomRotation(8),\n",
        "    transforms.ToTensor(),\n",
        "    transforms.Normalize(mean=[0.485,0.485,0.485], std=[0.229,0.229,0.229])\n",
        "])\n",
        "val_transforms = transforms.Compose([\n",
        "    transforms.Resize(int(IMAGE_SIZE*1.14)),\n",
        "    transforms.CenterCrop(IMAGE_SIZE),\n",
        "    transforms.ToTensor(),\n",
        "    transforms.Normalize(mean=[0.485,0.485,0.485], std=[0.229,0.229,0.229])\n",
        "])"
      ]
    },
    {
      "cell_type": "code",
      "execution_count": 62,
      "id": "308a571d",
      "metadata": {
        "colab": {
          "base_uri": "https://localhost:8080/"
        },
        "id": "308a571d",
        "outputId": "a844d3d7-f3ed-46f8-9bee-57b0c7b7ae52"
      },
      "outputs": [
        {
          "output_type": "stream",
          "name": "stdout",
          "text": [
            "No labels CSV found. Creating a tiny synthetic dataset for demo.\n",
            "Demo labels saved to /content/demo_labels.csv\n",
            "Detected label columns: ['label_0', 'label_1', 'label_2', 'label_3', 'label_4', 'label_5']\n"
          ]
        }
      ],
      "source": [
        "# Try to locate a labels CSV in the cloned repo; otherwise create a tiny synthetic example for demo\n",
        "labels_csv = None\n",
        "for root, dirs, files in os.walk('repo_cxr'):\n",
        "    for f in files:\n",
        "        if 'labels' in f.lower() and f.lower().endswith('.csv'):\n",
        "            labels_csv = os.path.join(root, f)\n",
        "            break\n",
        "    if labels_csv:\n",
        "        break\n",
        "\n",
        "if labels_csv and os.path.exists(labels_csv):\n",
        "    print('Found labels CSV:', labels_csv)\n",
        "    df_all = pd.read_csv(labels_csv)\n",
        "    display(df_all.head())\n",
        "else:\n",
        "    print('No labels CSV found. Creating a tiny synthetic dataset for demo.')\n",
        "    os.makedirs('/content/demo_imgs', exist_ok=True)\n",
        "    from PIL import Image, ImageDraw\n",
        "    demo_rows = []\n",
        "    for i in range(40):\n",
        "        img = Image.new('RGB',(256,256),(int(255*i/40),0,0))\n",
        "        draw = ImageDraw.Draw(img)\n",
        "        draw.text((10,10), f\"img{i}\", fill=(255,255,255))\n",
        "        p = f'demo_{i}.png'\n",
        "        img.save(os.path.join('/content/demo_imgs', p))\n",
        "        labels = np.random.randint(0,2, size=(NUM_CLASSES,))\n",
        "        row = {'image_path': p}\n",
        "        for j in range(NUM_CLASSES):\n",
        "            row[f'label_{j}'] = labels[j]\n",
        "        demo_rows.append(row)\n",
        "    df_all = pd.DataFrame(demo_rows)\n",
        "    df_all.to_csv('/content/demo_labels.csv', index=False)\n",
        "    labels_csv = '/content/demo_labels.csv'\n",
        "    print('Demo labels saved to', labels_csv)\n",
        "\n",
        "label_cols = [c for c in df_all.columns if c != 'image_path']\n",
        "if len(label_cols) == 0:\n",
        "    print('No label columns detected; you will need to adjust this cell to your CSV format.')\n",
        "else:\n",
        "    print('Detected label columns:', label_cols[:6])"
      ]
    },
    {
      "cell_type": "code",
      "execution_count": 63,
      "id": "1fa275e8",
      "metadata": {
        "colab": {
          "base_uri": "https://localhost:8080/"
        },
        "id": "1fa275e8",
        "outputId": "82d06055-683a-4109-ad44-3c4b691ccaa8"
      },
      "outputs": [
        {
          "output_type": "stream",
          "name": "stdout",
          "text": [
            "Train samples: 32 Val samples: 8\n"
          ]
        }
      ],
      "source": [
        "from sklearn.model_selection import train_test_split\n",
        "import os\n",
        "if 'image_path' not in df_all.columns:\n",
        "    raise RuntimeError('CSV does not contain image_path column. Update cell to match your CSV format.')\n",
        "\n",
        "# Determine the correct image directory based on whether a demo dataset was created\n",
        "img_directory = '/content/demo_imgs' if os.path.exists('/content/demo_imgs') else DATA_DIR\n",
        "\n",
        "train_df, val_df = train_test_split(df_all, test_size=0.2, random_state=SEED, shuffle=True)\n",
        "train_ds = CXRDataset(train_df, img_dir=img_directory, transforms=train_transforms, image_col='image_path', label_cols=label_cols)\n",
        "val_ds = CXRDataset(val_df, img_dir=img_directory, transforms=val_transforms, image_col='image_path', label_cols=label_cols)\n",
        "\n",
        "train_loader = DataLoader(train_ds, batch_size=BATCH_SIZE, shuffle=True, num_workers=2)\n",
        "val_loader = DataLoader(val_ds, batch_size=BATCH_SIZE*2, shuffle=False, num_workers=2)\n",
        "\n",
        "print('Train samples:', len(train_ds), 'Val samples:', len(val_ds))"
      ]
    },
    {
      "cell_type": "code",
      "execution_count": 64,
      "id": "23862065",
      "metadata": {
        "colab": {
          "base_uri": "https://localhost:8080/"
        },
        "id": "23862065",
        "outputId": "2147b7db-2d12-46bf-c275-6d462a9ab2d9"
      },
      "outputs": [
        {
          "output_type": "stream",
          "name": "stdout",
          "text": [
            "Models instantiated examples:\n"
          ]
        },
        {
          "output_type": "stream",
          "name": "stderr",
          "text": [
            "/usr/local/lib/python3.12/dist-packages/torchvision/models/_utils.py:208: UserWarning: The parameter 'pretrained' is deprecated since 0.13 and may be removed in the future, please use 'weights' instead.\n",
            "  warnings.warn(\n",
            "/usr/local/lib/python3.12/dist-packages/torchvision/models/_utils.py:223: UserWarning: Arguments other than a weight enum or `None` for 'weights' are deprecated since 0.13 and may be removed in the future. The current behavior is equivalent to passing `weights=None`.\n",
            "  warnings.warn(msg)\n"
          ]
        },
        {
          "output_type": "stream",
          "name": "stdout",
          "text": [
            "Done\n"
          ]
        }
      ],
      "source": [
        "# PlainNet and ResNet definitions\n",
        "class PlainNet(nn.Module):\n",
        "    def __init__(self, num_classes=NUM_CLASSES):\n",
        "        super().__init__()\n",
        "        self.features = nn.Sequential(\n",
        "            nn.Conv2d(3,32,3,padding=1,bias=False), nn.BatchNorm2d(32), nn.ReLU(inplace=True),\n",
        "            nn.Conv2d(32,32,3,padding=1,bias=False), nn.BatchNorm2d(32), nn.ReLU(inplace=True),\n",
        "            nn.MaxPool2d(2),\n",
        "            nn.Conv2d(32,64,3,padding=1,bias=False), nn.BatchNorm2d(64), nn.ReLU(inplace=True),\n",
        "            nn.Conv2d(64,64,3,padding=1,bias=False), nn.BatchNorm2d(64), nn.ReLU(inplace=True),\n",
        "            nn.MaxPool2d(2),\n",
        "            nn.Conv2d(64,128,3,padding=1,bias=False), nn.BatchNorm2d(128), nn.ReLU(inplace=True),\n",
        "            nn.Conv2d(128,128,3,padding=1,bias=False), nn.BatchNorm2d(128), nn.ReLU(inplace=True),\n",
        "            nn.AdaptiveAvgPool2d(1)\n",
        "        )\n",
        "        self.fc = nn.Linear(128, num_classes)\n",
        "    def forward(self,x):\n",
        "        x = self.features(x)\n",
        "        x = x.view(x.size(0),-1)\n",
        "        x = self.fc(x)\n",
        "        return x\n",
        "\n",
        "def get_resnet(name='resnet50', pretrained=True, num_classes=NUM_CLASSES):\n",
        "    if name.startswith('resnet'):\n",
        "        model = models.__dict__[name](pretrained=pretrained)\n",
        "        in_f = model.fc.in_features\n",
        "        model.fc = nn.Linear(in_f, num_classes)\n",
        "    else:\n",
        "        model = timm.create_model(name, pretrained=pretrained, num_classes=num_classes)\n",
        "    return model\n",
        "\n",
        "print('Models instantiated examples:')\n",
        "_ = PlainNet()\n",
        "_ = get_resnet('resnet50', pretrained=False, num_classes=NUM_CLASSES)\n",
        "print('Done')"
      ]
    },
    {
      "cell_type": "code",
      "execution_count": 65,
      "id": "64ac73e9",
      "metadata": {
        "id": "64ac73e9"
      },
      "outputs": [],
      "source": [
        "# Training utilities\n",
        "def train_one_epoch(model, loader, criterion, optimizer, device):\n",
        "    model.train()\n",
        "    running_loss = 0.0\n",
        "    for imgs, labels in loader:\n",
        "        imgs = imgs.to(device)\n",
        "        labels = labels.to(device)\n",
        "        optimizer.zero_grad()\n",
        "        logits = model(imgs)\n",
        "        loss = criterion(logits, labels)\n",
        "        loss.backward()\n",
        "        optimizer.step()\n",
        "        running_loss += loss.item() * imgs.size(0)\n",
        "    return running_loss / len(loader.dataset)\n",
        "\n",
        "def evaluate(model, loader, device):\n",
        "    model.eval()\n",
        "    all_logits, all_labels = [], []\n",
        "    with torch.no_grad():\n",
        "        for imgs, labels in loader:\n",
        "            imgs = imgs.to(device)\n",
        "            logits = model(imgs)\n",
        "            all_logits.append(torch.sigmoid(logits).cpu().numpy())\n",
        "            all_labels.append(labels.numpy())\n",
        "    if len(all_logits)==0:\n",
        "        return None, None\n",
        "    all_logits = np.concatenate(all_logits, axis=0)\n",
        "    all_labels = np.concatenate(all_labels, axis=0)\n",
        "    aucs = []\n",
        "    for i in range(all_labels.shape[1]):\n",
        "        try:\n",
        "            auc = roc_auc_score(all_labels[:,i], all_logits[:,i])\n",
        "        except Exception:\n",
        "            auc = np.nan\n",
        "        aucs.append(auc)\n",
        "    mean_auc = np.nanmean(aucs)\n",
        "    return mean_auc, aucs\n"
      ]
    },
    {
      "cell_type": "code",
      "execution_count": 66,
      "id": "1bd85821",
      "metadata": {
        "id": "1bd85821"
      },
      "outputs": [],
      "source": [
        "def run_training(model, train_loader, val_loader, epochs=EPOCHS, lr=1e-3, save_prefix='model'):\n",
        "    model = model.to(DEVICE)\n",
        "    criterion = nn.BCEWithLogitsLoss()\n",
        "    optimizer = torch.optim.SGD(model.parameters(), lr=lr, momentum=0.9, weight_decay=1e-4)\n",
        "    scheduler = torch.optim.lr_scheduler.MultiStepLR(optimizer, milestones=[int(0.5*epochs), int(0.75*epochs)], gamma=0.1)\n",
        "    history = {'epoch':[], 'train_loss':[], 'val_mean_auc':[]}\n",
        "    best_auc = -1\n",
        "    for ep in range(1, epochs+1):\n",
        "        t0 = time.time()\n",
        "        train_loss = train_one_epoch(model, train_loader, criterion, optimizer, DEVICE)\n",
        "        val_mean_auc, val_aucs = evaluate(model, val_loader, DEVICE)\n",
        "        scheduler.step()\n",
        "        history['epoch'].append(ep)\n",
        "        history['train_loss'].append(train_loss)\n",
        "        history['val_mean_auc'].append(val_mean_auc)\n",
        "        print(f'Epoch {ep}/{epochs} train_loss {train_loss:.4f} val_mean_auc {val_mean_auc:.4f} time {(time.time()-t0):.1f}s')\n",
        "        if val_mean_auc and val_mean_auc > best_auc:\n",
        "            best_auc = val_mean_auc\n",
        "            torch.save(model.state_dict(), f'{save_prefix}_best.pth')\n",
        "    pd.DataFrame(history).to_csv(f'{save_prefix}_history.csv', index=False)\n",
        "    return history, best_auc\n"
      ]
    },
    {
      "cell_type": "code",
      "execution_count": 67,
      "id": "430da3ed",
      "metadata": {
        "colab": {
          "base_uri": "https://localhost:8080/"
        },
        "id": "430da3ed",
        "outputId": "5c62fe91-9039-4e8d-cb3c-e7fc3deaee0d"
      },
      "outputs": [
        {
          "output_type": "stream",
          "name": "stdout",
          "text": [
            "Epoch 1/3 train_loss 0.6994 val_mean_auc 0.4798 time 3.5s\n",
            "Epoch 2/3 train_loss 0.6996 val_mean_auc 0.4580 time 0.7s\n",
            "Epoch 3/3 train_loss 0.7005 val_mean_auc 0.4440 time 0.7s\n",
            "Plain best mean AUC 0.4797619047619048\n"
          ]
        },
        {
          "output_type": "stream",
          "name": "stderr",
          "text": [
            "/usr/local/lib/python3.12/dist-packages/torchvision/models/_utils.py:208: UserWarning: The parameter 'pretrained' is deprecated since 0.13 and may be removed in the future, please use 'weights' instead.\n",
            "  warnings.warn(\n",
            "/usr/local/lib/python3.12/dist-packages/torchvision/models/_utils.py:223: UserWarning: Arguments other than a weight enum or `None` for 'weights' are deprecated since 0.13 and may be removed in the future. The current behavior is equivalent to passing `weights=ResNet50_Weights.IMAGENET1K_V1`. You can also use `weights=ResNet50_Weights.DEFAULT` to get the most up-to-date weights.\n",
            "  warnings.warn(msg)\n"
          ]
        },
        {
          "output_type": "stream",
          "name": "stdout",
          "text": [
            "Downloading: \"https://download.pytorch.org/models/resnet50-0676ba61.pth\" to /root/.cache/torch/hub/checkpoints/resnet50-0676ba61.pth\n"
          ]
        },
        {
          "output_type": "stream",
          "name": "stderr",
          "text": [
            "100%|██████████| 97.8M/97.8M [00:00<00:00, 130MB/s]\n"
          ]
        },
        {
          "output_type": "stream",
          "name": "stdout",
          "text": [
            "Epoch 1/3 train_loss 0.6992 val_mean_auc 0.4815 time 0.9s\n",
            "Epoch 2/3 train_loss 0.6929 val_mean_auc 0.4792 time 0.7s\n",
            "Epoch 3/3 train_loss 0.6944 val_mean_auc 0.4866 time 0.7s\n",
            "ResNet best mean AUC 0.48660714285714285\n"
          ]
        }
      ],
      "source": [
        "# Run experiments (demo)\n",
        "plain = PlainNet(num_classes=NUM_CLASSES)\n",
        "hist_plain, best_plain = run_training(plain, train_loader, val_loader, epochs=EPOCHS, lr=1e-3, save_prefix='plainnet')\n",
        "print('Plain best mean AUC', best_plain)\n",
        "\n",
        "resnet = get_resnet('resnet50', pretrained=True, num_classes=NUM_CLASSES)\n",
        "hist_resnet, best_resnet = run_training(resnet, train_loader, val_loader, epochs=EPOCHS, lr=1e-3, save_prefix='resnet50')\n",
        "print('ResNet best mean AUC', best_resnet)\n"
      ]
    },
    {
      "cell_type": "code",
      "execution_count": 68,
      "id": "335b7258",
      "metadata": {
        "id": "335b7258",
        "colab": {
          "base_uri": "https://localhost:8080/",
          "height": 424
        },
        "outputId": "75951f4c-cbae-45ad-8e7e-ce303de39e09"
      },
      "outputs": [
        {
          "output_type": "display_data",
          "data": {
            "text/plain": [
              "<Figure size 1000x400 with 2 Axes>"
            ],
            "image/png": "[encoded data removed]"
          },
          "metadata": {}
        },
        {
          "output_type": "stream",
          "name": "stdout",
          "text": [
            "Saved comparison_cxr.png\n"
          ]
        }
      ],
      "source": [
        "import pandas as pd\n",
        "if os.path.exists('plainnet_history.csv') and os.path.exists('resnet50_history.csv'):\n",
        "    df_plain = pd.read_csv('plainnet_history.csv')\n",
        "    df_res = pd.read_csv('resnet50_history.csv')\n",
        "    plt.figure(figsize=(10,4))\n",
        "    plt.subplot(1,2,1)\n",
        "    plt.plot(df_plain['epoch'], df_plain['val_mean_auc'], label='plain mean AUC')\n",
        "    plt.plot(df_res['epoch'], df_res['val_mean_auc'], label='resnet mean AUC')\n",
        "    plt.xlabel('Epoch'); plt.ylabel('Mean AUC'); plt.legend()\n",
        "    plt.subplot(1,2,2)\n",
        "    plt.plot(df_plain['epoch'], df_plain['train_loss'], label='plain train loss')\n",
        "    plt.plot(df_res['epoch'], df_res['train_loss'], label='resnet train loss')\n",
        "    plt.xlabel('Epoch'); plt.ylabel('Train loss'); plt.legend()\n",
        "    plt.tight_layout()\n",
        "    plt.savefig('comparison_cxr.png')\n",
        "    plt.show()\n",
        "    print('Saved comparison_cxr.png')\n",
        "else:\n",
        "    print('History files not found - run training cells first')"
      ]
    }
  ],
  "metadata": {
    "colab": {
      "provenance": [],
      "gpuType": "T4"
    },
    "accelerator": "GPU",
    "language_info": {
      "name": "python"
    },
    "kernelspec": {
      "name": "python3",
      "display_name": "Python 3"
    }
  },
  "nbformat": 4,
  "nbformat_minor": 5
}